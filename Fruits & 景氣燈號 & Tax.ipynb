{
 "cells": [
  {
   "cell_type": "code",
   "execution_count": 1,
   "id": "19241833-8e25-4e8d-a731-bfd3db82f7ce",
   "metadata": {},
   "outputs": [
    {
     "name": "stdout",
     "output_type": "stream",
     "text": [
      "Today's fruit is :Tomato\n"
     ]
    }
   ],
   "source": [
    "import random\n",
    "\n",
    "fruits=['Apple','Orange','Banana','Pear','Tomato']\n",
    "cf=random.choice(fruits)\n",
    "\n",
    "print(\"Today's fruit is :\"+ cf)"
   ]
  },
  {
   "cell_type": "code",
   "execution_count": 3,
   "id": "2c506df5-12cc-4909-a969-b0e81ac4d69a",
   "metadata": {},
   "outputs": [
    {
     "name": "stdin",
     "output_type": "stream",
     "text": [
      "請輸入景氣對策信號綜合分數 9\n"
     ]
    },
    {
     "name": "stdout",
     "output_type": "stream",
     "text": [
      "藍燈\n"
     ]
    }
   ],
   "source": [
    "#景氣對策燈號\n",
    "\n",
    "score=int(input('請輸入景氣對策信號綜合分數'))\n",
    "if score>=45 or score<9:\n",
    "    print('錯誤')\n",
    "elif score>=31:\n",
    "    print('黃紅燈')\n",
    "elif score>=22:\n",
    "    print('綠燈')\n",
    "elif score>=16:\n",
    "    print('黃藍燈')\n",
    "elif score>=9:\n",
    "    print('藍燈')"
   ]
  },
  {
   "cell_type": "code",
   "execution_count": 5,
   "id": "87f50d24-cc13-47fd-a561-bf1c0c9d7cb8",
   "metadata": {},
   "outputs": [
    {
     "name": "stdin",
     "output_type": "stream",
     "text": [
      "請輸入淨年所得額 540001\n"
     ]
    },
    {
     "name": "stdout",
     "output_type": "stream",
     "text": [
      "應繳稅額= 27000.12\n"
     ]
    }
   ],
   "source": [
    "# Tax\n",
    "\n",
    "level1=540000*0.05\n",
    "level2=(1210000-540000)*0.12\n",
    "level3=(2420000-1210000)*0.2\n",
    "level4=(4530000-2420000)*0.3\n",
    "level5=(10310000-4530000)*0.4\n",
    "income=int(input('請輸入淨年所得額'))\n",
    "\n",
    "if income <= 540000:\n",
    "    tax=income*0.05\n",
    "elif income <= 1210000:\n",
    "    tax=level1+((income-540000)*0.12)\n",
    "elif income <= 2420000:\n",
    "    tax=level1+level2+((income-1210000)*0.2)\n",
    "elif income <= 453000:\n",
    "    tax=level1+level2+level3+((income-2420000)*0.3)\n",
    "elif income <= 10310000:\n",
    "    tax=level1+level2+level3+level4+((income-453000)*0.4)\n",
    "\n",
    "else:\n",
    "    tax=level1+level2+level3+level4+level5+((income-10310000)*0.45)\n",
    "\n",
    "print('應繳稅額=', tax)"
   ]
  },
  {
   "cell_type": "code",
   "execution_count": null,
   "id": "ca6d5f26-aa2a-44d0-839a-809ec47e0dcf",
   "metadata": {},
   "outputs": [],
   "source": []
  }
 ],
 "metadata": {
  "kernelspec": {
   "display_name": "Python 3 (ipykernel)",
   "language": "python",
   "name": "python3"
  },
  "language_info": {
   "codemirror_mode": {
    "name": "ipython",
    "version": 3
   },
   "file_extension": ".py",
   "mimetype": "text/x-python",
   "name": "python",
   "nbconvert_exporter": "python",
   "pygments_lexer": "ipython3",
   "version": "3.11.7"
  }
 },
 "nbformat": 4,
 "nbformat_minor": 5
}
